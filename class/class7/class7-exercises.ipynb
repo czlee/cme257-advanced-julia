{
 "cells": [
  {
   "cell_type": "code",
   "execution_count": 19,
   "metadata": {
    "collapsed": false
   },
   "outputs": [
    {
     "data": {
      "text/plain": [
       "⊗ (generic function with 1 method)"
      ]
     },
     "execution_count": 19,
     "metadata": {},
     "output_type": "execute_result"
    }
   ],
   "source": [
    "function ⊗{T}(x::Array{T}, y::Array{T})\n",
    "    @assert length(x) == length(y)\n",
    "    product = one(T)\n",
    "    for i in 1:length(x)\n",
    "        product *= x[i] + y[i]\n",
    "    end\n",
    "    return product\n",
    "end"
   ]
  },
  {
   "cell_type": "code",
   "execution_count": 25,
   "metadata": {
    "collapsed": false
   },
   "outputs": [
    {
     "data": {
      "text/plain": [
       "⊕ (generic function with 1 method)"
      ]
     },
     "execution_count": 25,
     "metadata": {},
     "output_type": "execute_result"
    }
   ],
   "source": [
    "function oplus{T}(x::Array{T}, y::Array{T})\n",
    "    product = one(T)\n",
    "    @simd for i in 1:length(x)\n",
    "        @inbounds product *= x[i] + y[i]\n",
    "    end\n",
    "    return product\n",
    "end\n",
    "\n",
    "function ⊕{T}(x::Array{T}, y::Array{T})\n",
    "    @assert length(x) == length(y)\n",
    "    oplus(x, y)\n",
    "end"
   ]
  },
  {
   "cell_type": "code",
   "execution_count": 13,
   "metadata": {
    "collapsed": false
   },
   "outputs": [],
   "source": [
    "x = rand(10000)\n",
    "y = rand(10000);"
   ]
  },
  {
   "cell_type": "code",
   "execution_count": 28,
   "metadata": {
    "collapsed": false
   },
   "outputs": [
    {
     "name": "stdout",
     "output_type": "stream",
     "text": [
      "  6.849455 seconds (398.98 k allocations: 7.614 MB, 0.10% gc time)\n",
      "  8.313523 seconds (398.98 k allocations: 7.614 MB)\n"
     ]
    }
   ],
   "source": [
    "reps = 100000\n",
    "@time for i = 1:reps\n",
    "    z = x ⊗ y\n",
    "end\n",
    "@time for i = 1:reps\n",
    "    z = x ⊕ y\n",
    "end"
   ]
  },
  {
   "cell_type": "code",
   "execution_count": null,
   "metadata": {
    "collapsed": true
   },
   "outputs": [],
   "source": [
    "function mymultiply{T}(A::Matrix{T}, x::Vector{T})\n",
    "    @assert size(A, 2) == length(x)\n",
    "    for i = 1:\n",
    "        for j = 1:length(x)\n",
    "        "
   ]
  }
 ],
 "metadata": {
  "kernelspec": {
   "display_name": "Julia 0.5.0-dev",
   "language": "julia",
   "name": "julia-0.5"
  },
  "language_info": {
   "file_extension": ".jl",
   "mimetype": "application/julia",
   "name": "julia",
   "version": "0.5.0"
  }
 },
 "nbformat": 4,
 "nbformat_minor": 0
}
